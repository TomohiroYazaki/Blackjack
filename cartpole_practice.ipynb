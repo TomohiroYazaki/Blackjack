{
  "nbformat": 4,
  "nbformat_minor": 0,
  "metadata": {
    "colab": {
      "name": "cartpole_practice.ipynb",
      "provenance": [],
      "collapsed_sections": [],
      "authorship_tag": "ABX9TyO/6LrTk9Ikg5dco4D2C7yQ",
      "include_colab_link": true
    },
    "kernelspec": {
      "name": "python3",
      "display_name": "Python 3"
    }
  },
  "cells": [
    {
      "cell_type": "markdown",
      "metadata": {
        "id": "view-in-github",
        "colab_type": "text"
      },
      "source": [
        "<a href=\"https://colab.research.google.com/github/TomohiroYazaki/Blackjack/blob/master/cartpole_practice.ipynb\" target=\"_parent\"><img src=\"https://colab.research.google.com/assets/colab-badge.svg\" alt=\"Open In Colab\"/></a>"
      ]
    },
    {
      "cell_type": "code",
      "metadata": {
        "id": "G4BOj2SzZEgY",
        "colab_type": "code",
        "colab": {
          "base_uri": "https://localhost:8080/",
          "height": 102
        },
        "outputId": "46f8385c-3c13-4a1f-c1c0-23e325b88e88"
      },
      "source": [
        "# Install Chainer, ChainerRL and CuPy!\n",
        "\n",
        "!curl https://colab.chainer.org/install | sh -!apt-get -qq -y install xvfb freeglut3-dev ffmpeg> /dev/null\n",
        "!pip -q install chainerrl\n",
        "!pip -q install gym\n",
        "!pip -q install pyglet\n",
        "!pip -q install pyopengl\n",
        "!pip -q install pyvirtualdisplay"
      ],
      "execution_count": 1,
      "outputs": [
        {
          "output_type": "stream",
          "text": [
            "sh: 0: Illegal option -!\n",
            "  % Total    % Received % Xferd  Average Speed   Time    Time     Time  Current\n",
            "                                 Dload  Upload   Total   Spent    Left  Speed\n",
            "\r  0     0    0     0    0     0      0      0 --:--:-- --:--:-- --:--:--     0\r100  1580  100  1580    0     0   9461      0 --:--:-- --:--:-- --:--:--  9518\n",
            "(23) Failed writing body\n"
          ],
          "name": "stdout"
        }
      ]
    },
    {
      "cell_type": "code",
      "metadata": {
        "id": "pTk9f6zxZLQA",
        "colab_type": "code",
        "colab": {}
      },
      "source": [
        "import chainer\n",
        "import chainer.functions as F\n",
        "import chainer.links as L\n",
        "import chainerrl\n",
        "import gym\n",
        "import numpy as np"
      ],
      "execution_count": 0,
      "outputs": []
    },
    {
      "cell_type": "code",
      "metadata": {
        "id": "Y8ejtFuzZPuA",
        "colab_type": "code",
        "colab": {
          "base_uri": "https://localhost:8080/",
          "height": 136
        },
        "outputId": "139f4d7d-c810-4ea5-b743-155e01bebf2c"
      },
      "source": [
        "env = gym.make('CartPole-v0')\n",
        "print('observation space:', env.observation_space)\n",
        "print('action space:', env.action_space)\n",
        "\n",
        "obs = env.reset()\n",
        "#env.render()\n",
        "print('initial observation:', obs)\n",
        "\n",
        "action = env.action_space.sample()\n",
        "obs, r, done, info = env.step(action)\n",
        "print('next observation:', obs)\n",
        "print('reward:', r)\n",
        "print('done:', done)\n",
        "print('info:', info)"
      ],
      "execution_count": 3,
      "outputs": [
        {
          "output_type": "stream",
          "text": [
            "observation space: Box(4,)\n",
            "action space: Discrete(2)\n",
            "initial observation: [ 0.02954702 -0.03474439 -0.00531714  0.03224829]\n",
            "next observation: [ 0.02885214 -0.22978969 -0.00467218  0.32324887]\n",
            "reward: 1.0\n",
            "done: False\n",
            "info: {}\n"
          ],
          "name": "stdout"
        }
      ]
    },
    {
      "cell_type": "markdown",
      "metadata": {
        "id": "1Biem_4aahBS",
        "colab_type": "text"
      },
      "source": [
        "----"
      ]
    },
    {
      "cell_type": "code",
      "metadata": {
        "id": "C641ZrGHaizh",
        "colab_type": "code",
        "colab": {}
      },
      "source": [
        "class QFunction(chainer.Chain):\n",
        "\n",
        "    def __init__(self, obs_size, n_actions, n_hidden_channels=50):\n",
        "        super().__init__()\n",
        "        with self.init_scope():\n",
        "            self.l0 = L.Linear(obs_size, n_hidden_channels)\n",
        "            self.l1 = L.Linear(n_hidden_channels, n_hidden_channels)\n",
        "            self.l2 = L.Linear(n_hidden_channels, n_actions)\n",
        "\n",
        "    def __call__(self, x, test=False):\n",
        "        \"\"\"\n",
        "        Args:\n",
        "            x (ndarray or chainer.Variable): An observation\n",
        "            test (bool): a flag indicating whether it is in test mode\n",
        "        \"\"\"\n",
        "        h = F.tanh(self.l0(x))\n",
        "        h = F.tanh(self.l1(h))\n",
        "        return chainerrl.action_value.DiscreteActionValue(self.l2(h))\n",
        "\n",
        "obs_size = env.observation_space.shape[0]\n",
        "n_actions = env.action_space.n\n",
        "q_func = QFunction(obs_size, n_actions)"
      ],
      "execution_count": 0,
      "outputs": []
    },
    {
      "cell_type": "code",
      "metadata": {
        "id": "iofuzBDQamM-",
        "colab_type": "code",
        "colab": {}
      },
      "source": [
        "#q_func.to_gpu(0)"
      ],
      "execution_count": 0,
      "outputs": []
    },
    {
      "cell_type": "code",
      "metadata": {
        "id": "Bi24rZFDap66",
        "colab_type": "code",
        "colab": {}
      },
      "source": [
        "_q_func = chainerrl.q_functions.FCStateQFunctionWithDiscreteAction(\n",
        "    obs_size, n_actions,\n",
        "    n_hidden_layers=2, n_hidden_channels=50)"
      ],
      "execution_count": 0,
      "outputs": []
    },
    {
      "cell_type": "code",
      "metadata": {
        "id": "Y0YAxJZ1ataR",
        "colab_type": "code",
        "colab": {
          "base_uri": "https://localhost:8080/",
          "height": 34
        },
        "outputId": "d515adfd-6d8d-47a3-b9fb-4eb2ed8bb530"
      },
      "source": [
        "# Use Adam to optimize q_func. eps=1e-2 is for stability.\n",
        "optimizer = chainer.optimizers.Adam(eps=1e-2)\n",
        "optimizer.setup(q_func)"
      ],
      "execution_count": 7,
      "outputs": [
        {
          "output_type": "execute_result",
          "data": {
            "text/plain": [
              "<chainer.optimizers.adam.Adam at 0x7f19c9be16a0>"
            ]
          },
          "metadata": {
            "tags": []
          },
          "execution_count": 7
        }
      ]
    },
    {
      "cell_type": "code",
      "metadata": {
        "id": "joiThDxMawzq",
        "colab_type": "code",
        "colab": {}
      },
      "source": [
        "# Set the discount factor that discounts future rewards.\n",
        "gamma = 0.95\n",
        "\n",
        "# Use epsilon-greedy for exploration\n",
        "explorer = chainerrl.explorers.ConstantEpsilonGreedy(\n",
        "    epsilon=0.3, random_action_func=env.action_space.sample)\n",
        "\n",
        "# DQN uses Experience Replay.\n",
        "# Specify a replay buffer and its capacity.\n",
        "replay_buffer = chainerrl.replay_buffer.ReplayBuffer(capacity=10 ** 6)\n",
        "\n",
        "# Since observations from CartPole-v0 is numpy.float64 while\n",
        "# Chainer only accepts numpy.float32 by default, specify\n",
        "# a converter as a feature extractor function phi.\n",
        "phi = lambda x: x.astype(np.float32, copy=False)\n",
        "\n",
        "# Now create an agent that will interact with the environment.\n",
        "agent = chainerrl.agents.DoubleDQN(\n",
        "    q_func, optimizer, replay_buffer, gamma, explorer,\n",
        "    replay_start_size=500, update_interval=1,\n",
        "    target_update_interval=100, phi=phi)"
      ],
      "execution_count": 0,
      "outputs": []
    },
    {
      "cell_type": "code",
      "metadata": {
        "id": "Z0IbzxPLa1Yk",
        "colab_type": "code",
        "colab": {
          "base_uri": "https://localhost:8080/",
          "height": 374
        },
        "outputId": "3eab81eb-ba6a-4cd9-e085-18d8fec0abda"
      },
      "source": [
        "n_episodes = 200\n",
        "max_episode_len = 200\n",
        "for i in range(1, n_episodes + 1):\n",
        "    obs = env.reset()\n",
        "    reward = 0\n",
        "    done = False\n",
        "    R = 0  # return (sum of rewards)\n",
        "    t = 0  # time step\n",
        "    while not done and t < max_episode_len:\n",
        "        # Uncomment to watch the behaviour\n",
        "        # env.render()\n",
        "        action = agent.act_and_train(obs, reward)\n",
        "        obs, reward, done, _ = env.step(action)\n",
        "        R += reward\n",
        "        t += 1\n",
        "    if i % 10 == 0:\n",
        "        print('episode:', i,\n",
        "              'R:', R,\n",
        "              'statistics:', agent.get_statistics())\n",
        "    agent.stop_episode_and_train(obs, reward, done)\n",
        "print('Finished.')"
      ],
      "execution_count": 9,
      "outputs": [
        {
          "output_type": "stream",
          "text": [
            "episode: 10 R: 55.0 statistics: [('average_q', 0.010871054509306439), ('average_loss', 0), ('n_updates', 0)]\n",
            "episode: 20 R: 52.0 statistics: [('average_q', 0.0219843112980234), ('average_loss', 0.1525593082200341), ('n_updates', 58)]\n",
            "episode: 30 R: 25.0 statistics: [('average_q', 0.5830356621681398), ('average_loss', 0.09710973023456404), ('n_updates', 372)]\n",
            "episode: 40 R: 53.0 statistics: [('average_q', 1.696660162960173), ('average_loss', 0.13283519050949144), ('n_updates', 668)]\n",
            "episode: 50 R: 45.0 statistics: [('average_q', 4.066056129551307), ('average_loss', 0.215936341259389), ('n_updates', 1158)]\n",
            "episode: 60 R: 131.0 statistics: [('average_q', 8.348893296097309), ('average_loss', 0.25480030406204507), ('n_updates', 2020)]\n",
            "episode: 70 R: 195.0 statistics: [('average_q', 12.277133795288922), ('average_loss', 0.27473039445278163), ('n_updates', 3311)]\n",
            "episode: 80 R: 200.0 statistics: [('average_q', 17.452474481465963), ('average_loss', 0.23364552088342158), ('n_updates', 5128)]\n",
            "episode: 90 R: 200.0 statistics: [('average_q', 19.178577469563333), ('average_loss', 0.16188819525258893), ('n_updates', 7115)]\n",
            "episode: 100 R: 200.0 statistics: [('average_q', 20.09157134003738), ('average_loss', 0.14555646178719778), ('n_updates', 9115)]\n",
            "episode: 110 R: 200.0 statistics: [('average_q', 20.144842427850143), ('average_loss', 0.16502881341556153), ('n_updates', 10647)]\n",
            "episode: 120 R: 200.0 statistics: [('average_q', 20.492253933553258), ('average_loss', 0.18156351729180076), ('n_updates', 12464)]\n",
            "episode: 130 R: 200.0 statistics: [('average_q', 20.36514708213645), ('average_loss', 0.15261931451155977), ('n_updates', 14439)]\n",
            "episode: 140 R: 200.0 statistics: [('average_q', 20.310882297106552), ('average_loss', 0.11558535908462675), ('n_updates', 16273)]\n",
            "episode: 150 R: 200.0 statistics: [('average_q', 20.317589836679915), ('average_loss', 0.16195537328190568), ('n_updates', 18094)]\n",
            "episode: 160 R: 195.0 statistics: [('average_q', 20.25673762747533), ('average_loss', 0.11710630607518038), ('n_updates', 20085)]\n",
            "episode: 170 R: 200.0 statistics: [('average_q', 20.210751817399707), ('average_loss', 0.11898595926258997), ('n_updates', 21925)]\n",
            "episode: 180 R: 200.0 statistics: [('average_q', 20.029598589769186), ('average_loss', 0.131028909944261), ('n_updates', 23897)]\n",
            "episode: 190 R: 200.0 statistics: [('average_q', 20.16438493670883), ('average_loss', 0.10837073318327513), ('n_updates', 25787)]\n",
            "episode: 200 R: 110.0 statistics: [('average_q', 20.079596265362987), ('average_loss', 0.1004316478505513), ('n_updates', 27519)]\n",
            "Finished.\n"
          ],
          "name": "stdout"
        }
      ]
    },
    {
      "cell_type": "code",
      "metadata": {
        "id": "7BMycynPbov5",
        "colab_type": "code",
        "colab": {}
      },
      "source": [
        "# Start virtual display\n",
        "from pyvirtualdisplay import Display\n",
        "display = Display(visible=0, size=(1024, 768))\n",
        "display.start()\n",
        "import os\n",
        "#os.environ[\"DISPLAY\"] = \":\" + str(display.display) + \".\" + str(display.screen)"
      ],
      "execution_count": 0,
      "outputs": []
    },
    {
      "cell_type": "code",
      "metadata": {
        "id": "QnWAszvFdZ2b",
        "colab_type": "code",
        "colab": {}
      },
      "source": [
        "frames = []\n",
        "for i in range(3):\n",
        "    obs = env.reset()\n",
        "    done = False\n",
        "    R = 0\n",
        "    t = 0\n",
        "    while not done and t < 200:\n",
        "        frames.append(env.render(mode = 'rgb_array'))\n",
        "        action = agent.act(obs)\n",
        "        obs, r, done, _ = env.step(action)\n",
        "        R += r\n",
        "        t += 1\n",
        "    print('test episode:', i, 'R:', R)\n",
        "    agent.stop_episode()\n",
        "env.render()\n",
        "\n",
        "import matplotlib.pyplot as plt\n",
        "import matplotlib.animation\n",
        "import numpy as np\n",
        "from IPython.display import HTML\n",
        "\n",
        "plt.figure(figsize=(frames[0].shape[1] / 72.0, frames[0].shape[0] / 72.0), dpi = 72)\n",
        "patch = plt.imshow(frames[0])\n",
        "plt.axis('off')\n",
        "animate = lambda i: patch.set_data(frames[i])\n",
        "ani = matplotlib.animation.FuncAnimation(plt.gcf(), animate, frames=len(frames), interval = 50)\n",
        "HTML(ani.to_jshtml())"
      ],
      "execution_count": 0,
      "outputs": []
    },
    {
      "cell_type": "code",
      "metadata": {
        "id": "IxIuWANge0ew",
        "colab_type": "code",
        "colab": {
          "base_uri": "https://localhost:8080/",
          "height": 68
        },
        "outputId": "d6e84da5-0d9c-4196-b115-ae8361b91e17"
      },
      "source": [
        "# wrap env for recording video\n",
        "envw = gym.wrappers.Monitor(env, \"./\", force=True)\n",
        "\n",
        "for i in range(3):\n",
        "    obs = envw.reset()\n",
        "    done = False\n",
        "    R = 0\n",
        "    t = 0\n",
        "    while not done and t < 200:\n",
        "        envw.render()\n",
        "        action = agent.act(obs)\n",
        "        obs, r, done, _ = envw.step(action)\n",
        "        R += r\n",
        "        t += 1\n",
        "    print('test episode:', i, 'R:', R)\n",
        "    agent.stop_episode()"
      ],
      "execution_count": 18,
      "outputs": [
        {
          "output_type": "stream",
          "text": [
            "test episode: 0 R: 200.0\n",
            "test episode: 1 R: 200.0\n",
            "test episode: 2 R: 200.0\n"
          ],
          "name": "stdout"
        }
      ]
    },
    {
      "cell_type": "code",
      "metadata": {
        "id": "gPktjCXzfNZY",
        "colab_type": "code",
        "colab": {}
      },
      "source": [
        "from google.colab import files\n",
        "import glob\n",
        "\n",
        "for file in glob.glob(\"openaigym.video.*.mp4\"):\n",
        "  files.download(file)"
      ],
      "execution_count": 0,
      "outputs": []
    },
    {
      "cell_type": "code",
      "metadata": {
        "id": "Be8hChypfbth",
        "colab_type": "code",
        "colab": {}
      },
      "source": [
        "!rm openaigym.video.*"
      ],
      "execution_count": 0,
      "outputs": []
    },
    {
      "cell_type": "code",
      "metadata": {
        "id": "Kjt46jodfgnl",
        "colab_type": "code",
        "colab": {}
      },
      "source": [
        "# Save an agent to the 'agent' directory\n",
        "agent.save('agent')\n",
        "\n",
        "# Uncomment to load an agent from the 'agent' directory\n",
        "# agent.load('agent')"
      ],
      "execution_count": 0,
      "outputs": []
    }
  ]
}